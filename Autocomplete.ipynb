{
 "metadata": {
  "language_info": {
   "codemirror_mode": {
    "name": "ipython",
    "version": 3
   },
   "file_extension": ".py",
   "mimetype": "text/x-python",
   "name": "python",
   "nbconvert_exporter": "python",
   "pygments_lexer": "ipython3",
   "version": "3.8.5-final"
  },
  "orig_nbformat": 2,
  "kernelspec": {
   "name": "Python 3.8.5 32-bit",
   "display_name": "Python 3.8.5 32-bit",
   "metadata": {
    "interpreter": {
     "hash": "416b3b3d7c2861747334a644f3bc9cc09375166302abdd382b9b4cd7a6e01994"
    }
   }
  }
 },
 "nbformat": 4,
 "nbformat_minor": 2,
 "cells": [
  {
   "cell_type": "code",
   "execution_count": 1,
   "metadata": {},
   "outputs": [],
   "source": [
    "import autocompleter \n",
    "autocompl = autocompleter.Autocompleter()"
   ]
  },
  {
   "cell_type": "code",
   "execution_count": 2,
   "metadata": {
    "tags": []
   },
   "outputs": [
    {
     "output_type": "stream",
     "name": "stdout",
     "text": "load json file...\n(22264, 3)\n"
    },
    {
     "output_type": "execute_result",
     "data": {
      "text/plain": "((22264, 3), Index(['IsFromCustomer', 'Text', 'index'], dtype='object'))"
     },
     "metadata": {},
     "execution_count": 2
    }
   ],
   "source": [
    "df = autocompl.import_json(\"name.json\")\n",
    "df.shape, df.columns"
   ]
  },
  {
   "cell_type": "code",
   "execution_count": 3,
   "metadata": {},
   "outputs": [
    {
     "output_type": "execute_result",
     "data": {
      "text/plain": "   IsFromCustomer                                               Text  index\n0            True  Hi! I placed an order on your website and I ca...      0\n1            True         I think I used my email address to log in.      0\n2            True                               My battery exploded!      1\n3            True             It's on fire, it's melting the carpet!      1\n4            True                                  What should I do!      1",
      "text/html": "<div>\n<style scoped>\n    .dataframe tbody tr th:only-of-type {\n        vertical-align: middle;\n    }\n\n    .dataframe tbody tr th {\n        vertical-align: top;\n    }\n\n    .dataframe thead th {\n        text-align: right;\n    }\n</style>\n<table border=\"1\" class=\"dataframe\">\n  <thead>\n    <tr style=\"text-align: right;\">\n      <th></th>\n      <th>IsFromCustomer</th>\n      <th>Text</th>\n      <th>index</th>\n    </tr>\n  </thead>\n  <tbody>\n    <tr>\n      <th>0</th>\n      <td>True</td>\n      <td>Hi! I placed an order on your website and I ca...</td>\n      <td>0</td>\n    </tr>\n    <tr>\n      <th>1</th>\n      <td>True</td>\n      <td>I think I used my email address to log in.</td>\n      <td>0</td>\n    </tr>\n    <tr>\n      <th>2</th>\n      <td>True</td>\n      <td>My battery exploded!</td>\n      <td>1</td>\n    </tr>\n    <tr>\n      <th>3</th>\n      <td>True</td>\n      <td>It's on fire, it's melting the carpet!</td>\n      <td>1</td>\n    </tr>\n    <tr>\n      <th>4</th>\n      <td>True</td>\n      <td>What should I do!</td>\n      <td>1</td>\n    </tr>\n  </tbody>\n</table>\n</div>"
     },
     "metadata": {},
     "execution_count": 3
    }
   ],
   "source": [
    "df.head()\n"
   ]
  },
  {
   "cell_type": "code",
   "execution_count": 4,
   "metadata": {
    "tags": []
   },
   "outputs": [
    {
     "output_type": "stream",
     "name": "stdout",
     "text": "select representative threads...\nsplit sentenses on punctuation...\nText Cleaning using simple regex...\ncalculate nb words of sentenses...\ncount occurence of sentenses...\nremove duplicates (keep last)...\n(8560, 5)\n"
    },
    {
     "output_type": "execute_result",
     "data": {
      "text/plain": "((8560, 5),\n Index(['IsFromCustomer', 'Text', 'index', 'nb_words', 'Counts'], dtype='object'))"
     },
     "metadata": {},
     "execution_count": 4
    }
   ],
   "source": [
    "new_df = autocompl.process_data(df)\n",
    "new_df.shape, new_df.columns"
   ]
  },
  {
   "cell_type": "code",
   "execution_count": 5,
   "metadata": {
    "tags": []
   },
   "outputs": [
    {
     "output_type": "stream",
     "name": "stdout",
     "text": "tfidf_matrice  (8560, 99397)\n"
    }
   ],
   "source": [
    "model_tf, tfidf_matrice = autocompl.calc_matrice(new_df)"
   ]
  },
  {
   "cell_type": "code",
   "execution_count": 6,
   "metadata": {
    "tags": []
   },
   "outputs": [
    {
     "output_type": "stream",
     "name": "stdout",
     "text": "What is your     \n \n"
    },
    {
     "output_type": "execute_result",
     "data": {
      "text/plain": "['What is your account number?',\n 'What is your order number?',\n 'What is your phone number?']"
     },
     "metadata": {},
     "execution_count": 6
    }
   ],
   "source": [
    "prefix = 'What is your'\n",
    "\n",
    "print(prefix,\"    \\n \")\n",
    "\n",
    "autocompl.generate_completions(prefix, new_df, model_tf,tfidf_matrice)"
   ]
  },
  {
   "cell_type": "code",
   "execution_count": 7,
   "metadata": {
    "tags": []
   },
   "outputs": [
    {
     "output_type": "stream",
     "name": "stdout",
     "text": "How can      \n"
    },
    {
     "output_type": "execute_result",
     "data": {
      "text/plain": "['How can I help you?',\n 'How can I help you today?',\n 'Ok lets see how I can help']"
     },
     "metadata": {},
     "execution_count": 7
    }
   ],
   "source": [
    "prefix = 'How can'\n",
    "print(prefix,\"     \")\n",
    "autocompl.generate_completions(prefix, new_df, model_tf,tfidf_matrice)"
   ]
  },
  {
   "cell_type": "code",
   "execution_count": 8,
   "metadata": {
    "tags": []
   },
   "outputs": [
    {
     "output_type": "stream",
     "name": "stdout",
     "text": "I am      \n"
    },
    {
     "output_type": "execute_result",
     "data": {
      "text/plain": "['I am sorry', 'I am happy', 'I am happy!']"
     },
     "metadata": {},
     "execution_count": 8
    }
   ],
   "source": [
    "prefix = 'I am'\n",
    "print(prefix,\"     \")\n",
    "autocompl.generate_completions(prefix, new_df, model_tf,tfidf_matrice)"
   ]
  },
  {
   "cell_type": "code",
   "execution_count": 9,
   "metadata": {
    "tags": []
   },
   "outputs": [
    {
     "output_type": "stream",
     "name": "stdout",
     "text": "Mansi      \n"
    },
    {
     "output_type": "execute_result",
     "data": {
      "text/plain": "['Hello Werner how may I help you today?',\n 'Sure I can help you with that',\n 'Let me update that information on our system']"
     },
     "metadata": {},
     "execution_count": 9
    }
   ],
   "source": [
    "prefix = 'Mansi'\n",
    "print(prefix,\"     \")\n",
    "autocompl.generate_completions(prefix, new_df, model_tf,tfidf_matrice)"
   ]
  },
  {
   "cell_type": "code",
   "execution_count": 10,
   "metadata": {
    "tags": []
   },
   "outputs": [
    {
     "output_type": "stream",
     "name": "stdout",
     "text": "Hello       \n"
    },
    {
     "output_type": "execute_result",
     "data": {
      "text/plain": "['Hello wernzio 2',\n 'Hello I can assist you with this',\n 'Hello werner how are things going?\\\\']"
     },
     "metadata": {},
     "execution_count": 10
    }
   ],
   "source": [
    "prefix = 'Hello '\n",
    "print(prefix,\"     \")\n",
    "autocompl.generate_completions(prefix, new_df, model_tf,tfidf_matrice)"
   ]
  },
  {
   "cell_type": "code",
   "execution_count": 11,
   "metadata": {
    "tags": []
   },
   
  }
 ]
}
