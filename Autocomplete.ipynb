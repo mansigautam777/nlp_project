{
 "cells": [
  {
   "cell_type": "code",
   "execution_count": 2,
   "metadata": {},
   "outputs": [],
   "source": [
    "import autocompleter \n",
    "autocompl = autocompleter.Autocompleter()"
   ]
  },
  {
   "cell_type": "code",
   "execution_count": 3,
   "metadata": {
    "tags": []
   },
   "outputs": [
    {
     "output_type": "stream",
     "name": "stdout",
     "text": "load json file...\n(22264, 3)\n"
    },
    {
     "output_type": "execute_result",
     "data": {
      "text/plain": "((22264, 3), Index([&#39;IsFromCustomer&#39;, &#39;Text&#39;, &#39;index&#39;], dtype=&#39;object&#39;))"
     },
     "metadata": {},
     "execution_count": 3
    }
   ],
   "source": [
    "df = autocompl.import_json(\"name.json\")\n",
    "df.shape, df.columns"
   ]
  },
  {
   "cell_type": "code",
   "execution_count": 4,
   "metadata": {},
   "outputs": [
    {
     "output_type": "execute_result",
     "data": {
      "text/plain": "   IsFromCustomer                                               Text  index\n0            True  Hi! I placed an order on your website and I ca...      0\n1            True         I think I used my email address to log in.      0\n2            True                               My battery exploded!      1\n3            True             It&#39;s on fire, it&#39;s melting the carpet!      1\n4            True                                  What should I do!      1",
      "text/html": "<div>\n<style scoped>\n    .dataframe tbody tr th:only-of-type {\n        vertical-align: middle;\n    }\n\n    .dataframe tbody tr th {\n        vertical-align: top;\n    }\n\n    .dataframe thead th {\n        text-align: right;\n    }\n</style>\n<table border=\"1\" class=\"dataframe\">\n  <thead>\n    <tr style=\"text-align: right;\">\n      <th></th>\n      <th>IsFromCustomer</th>\n      <th>Text</th>\n      <th>index</th>\n    </tr>\n  </thead>\n  <tbody>\n    <tr>\n      <th>0</th>\n      <td>True</td>\n      <td>Hi! I placed an order on your website and I ca...</td>\n      <td>0</td>\n    </tr>\n    <tr>\n      <th>1</th>\n      <td>True</td>\n      <td>I think I used my email address to log in.</td>\n      <td>0</td>\n    </tr>\n    <tr>\n      <th>2</th>\n      <td>True</td>\n      <td>My battery exploded!</td>\n      <td>1</td>\n    </tr>\n    <tr>\n      <th>3</th>\n      <td>True</td>\n      <td>It's on fire, it's melting the carpet!</td>\n      <td>1</td>\n    </tr>\n    <tr>\n      <th>4</th>\n      <td>True</td>\n      <td>What should I do!</td>\n      <td>1</td>\n    </tr>\n  </tbody>\n</table>\n</div>"
     },
     "metadata": {},
     "execution_count": 4
    }
   ],
   "source": [
    "df.head()"
   ]
  },
  {
   "cell_type": "markdown",
   "metadata": {},
   "source": [
    "# Data Selection and Cleaning"
   ]
  },
  {
   "cell_type": "markdown",
   "metadata": {},
   "source": [
    "The data is going to separate the threads from the customer and the representative, separate the sentenses based on the punctuation (we will keep the punctuation), the final text will be cleaned up with some light regex and only the sentense larger than 1 word will be kept."
   ]
  },
  {
   "cell_type": "markdown",
   "metadata": {},
   "source": [
    "Finally, since the representative has the tendency to ask the same question over and over again, the autocomplete is extremely useful by suggesting a complete sentense. In our case, we will count the number of occurence of the same sentense so we can use it as a feature later on and delete the duplicates."
   ]
  },
  {
   "cell_type": "code",
   "execution_count": 5,
   "metadata": {
    "tags": []
   },
   "outputs": [
    {
     "output_type": "stream",
     "name": "stdout",
     "text": "select representative threads...\nsplit sentenses on punctuation...\nText Cleaning using simple regex...\ncalculate nb words of sentenses...\ncount occurence of sentenses...\nremove duplicates (keep last)...\n(8560, 5)\n"
    },
    {
     "output_type": "execute_result",
     "data": {
      "text/plain": "((8560, 5),\n Index([&#39;IsFromCustomer&#39;, &#39;Text&#39;, &#39;index&#39;, &#39;nb_words&#39;, &#39;Counts&#39;], dtype=&#39;object&#39;))"
     },
     "metadata": {},
     "execution_count": 5
    }
   ],
   "source": [
    "new_df = autocompl.process_data(df)\n",
    "new_df.shape, new_df.columns"
   ]
  },
  {
   "cell_type": "markdown",
   "metadata": {},
   "source": [
    "# Model and TFIDF matrix"
   ]
  },
  {
   "cell_type": "markdown",
   "metadata": {},
   "source": [
    "A matrice of similarity is calculated based on the frequency of all the words in the data using tfidfvectorizer"
   ]
  },
  {
   "cell_type": "code",
   "execution_count": 6,
   "metadata": {
    "tags": []
   },
   "outputs": [
    {
     "output_type": "stream",
     "name": "stdout",
     "text": "tfidf_matrice  (8560, 99397)\n"
    }
   ],
   "source": [
    "model_tf, tfidf_matrice = autocompl.calc_matrice(new_df)"
   ]
  },
  {
   "cell_type": "markdown",
   "metadata": {},
   "source": [
    "# Ranking Function"
   ]
  },
  {
   "cell_type": "markdown",
   "metadata": {},
   "source": [
    "Finally, the autocomplete is calculating the similarity between the sentense in the data and the prefix of the sentense written by the representative. As a weight feature, we chose to reorder using the frequency of the most common similar sentense."
   ]
  },
  {
   "cell_type": "markdown",
   "metadata": {},
   "source": [
    "examples of auto completions"
   ]
  },
  {
   "cell_type": "code",
   "execution_count": 7,
   "metadata": {
    "tags": []
   },
   "outputs": [
    {
     "output_type": "stream",
     "name": "stdout",
     "text": "What is your     \n \n"
    },
    {
     "output_type": "execute_result",
     "data": {
      "text/plain": "[&#39;What is your account number?&#39;,\n &#39;What is your order number?&#39;,\n &#39;What is your phone number?&#39;]"
     },
     "metadata": {},
     "execution_count": 7
    }
   ],
   "source": [
    "prefix = 'What is your'\n",
    "\n",
    "print(prefix,\"    \\n \")\n",
    "\n",
    "autocompl.generate_completions(prefix, new_df, model_tf,tfidf_matrice)"
   ]
  },
  {
   "cell_type": "code",
   "execution_count": 8,
   "metadata": {
    "tags": []
   },
   "outputs": [
    {
     "output_type": "stream",
     "name": "stdout",
     "text": "How       \n"
    },
    {
     "output_type": "execute_result",
     "data": {
      "text/plain": "[&#39;How does that sound?&#39;, &#39;How may I help you?&#39;, &quot;How&#39;s the 7th?&quot;]"
     },
     "metadata": {},
     "execution_count": 8
    }
   ],
   "source": [
    "prefix = 'How '\n",
    "print(prefix,\"     \")\n",
    "autocompl.generate_completions(prefix, new_df, model_tf,tfidf_matrice)"
   ]
  },
  {
   "cell_type": "code",
   "execution_count": 9,
   "metadata": {
    "tags": []
   },
   "outputs": [
    {
     "output_type": "stream",
     "name": "stdout",
     "text": "Let me      \n"
    },
    {
     "output_type": "execute_result",
     "data": {
      "text/plain": "[&#39;Let me investigate&#39;, &#39;Let me assist you&#39;, &#39;Let me look&#39;]"
     },
     "metadata": {},
     "execution_count": 9
    }
   ],
   "source": [
    "prefix = 'Let me'\n",
    "print(prefix,\"     \")\n",
    "autocompl.generate_completions(prefix, new_df, model_tf,tfidf_matrice)"
   ]
  },
  {
   "cell_type": "code",
   "execution_count": 10,
   "metadata": {
    "tags": []
   },
   "outputs": [
    {
     "output_type": "stream",
     "name": "stdout",
     "text": "how was      \n"
    },
    {
     "output_type": "execute_result",
     "data": {
      "text/plain": "[&#39;How does that sound?&#39;, &#39;How may I help you?&#39;, &quot;How&#39;s the 7th?&quot;]"
     },
     "metadata": {},
     "execution_count": 10
    }
   ],
   "source": [
    "prefix = 'how was'\n",
    "print(prefix,\"     \")\n",
    "autocompl.generate_completions(prefix, new_df, model_tf,tfidf_matrice)"
   ]
  },
  {
   "cell_type": "markdown",
   "metadata": {},
   "source": [
    "Now, without any uppercase and just with the important words..."
   ]
  },
  {
   "cell_type": "code",
   "execution_count": 11,
   "metadata": {
    "tags": []
   },
   "outputs": [
    {
     "output_type": "stream",
     "name": "stdout",
     "text": "hello      \n"
    },
    {
     "output_type": "execute_result",
     "data": {
      "text/plain": "[&#39;Hello wernzio 2&#39;,\n &#39;Hello I can assist you with this&#39;,\n &#39;Hello werner how are things going?\\\\&#39;]"
     },
     "metadata": {},
     "execution_count": 11
    }
   ],
   "source": [
    "prefix = 'hello'\n",
    "print(prefix,\"     \")\n",
    "autocompl.generate_completions(prefix, new_df, model_tf,tfidf_matrice)"
   ]
  }
 ],
 "metadata": {
  "kernelspec": {
   "name": "Python 3.8.5 32-bit",
   "display_name": "Python 3.8.5 32-bit",
   "metadata": {
    "interpreter": {
     "hash": "416b3b3d7c2861747334a644f3bc9cc09375166302abdd382b9b4cd7a6e01994"
    }
   }
  },
  "language_info": {
   "codemirror_mode": {
    "name": "ipython",
    "version": 3
   },
   "file_extension": ".py",
   "mimetype": "text/x-python",
   "name": "python",
   "nbconvert_exporter": "python",
   "pygments_lexer": "ipython3",
   "version": "3.8.5-final"
  }
 },
 "nbformat": 4,
 "nbformat_minor": 2
}